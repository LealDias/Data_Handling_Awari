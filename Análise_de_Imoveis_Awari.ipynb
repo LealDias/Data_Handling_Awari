{
 "cells": [
  {
   "cell_type": "markdown",
   "metadata": {},
   "source": [
    "### Web Scraping de Dados de Imovéis da Cidade de Rio das Ostras"
   ]
  },
  {
   "cell_type": "markdown",
   "metadata": {},
   "source": [
    "#### 1 - Importando as Bibliotecas Necessárias"
   ]
  },
  {
   "cell_type": "code",
   "execution_count": 1,
   "metadata": {},
   "outputs": [],
   "source": [
    "from selenium import webdriver\n",
    "from time import sleep\n",
    "import pandas as pd\n",
    "\n",
    "from selenium.webdriver.support.ui import WebDriverWait\n",
    "from selenium.webdriver.support import expected_conditions as EC"
   ]
  },
  {
   "cell_type": "markdown",
   "metadata": {},
   "source": [
    "#### 2 - Acesso e Controle do Navegador"
   ]
  },
  {
   "cell_type": "code",
   "execution_count": 2,
   "metadata": {},
   "outputs": [],
   "source": [
    "URL_IMOVEIS = \"https://www.vivareal.com.br/venda/rj/rio-das-ostras/\" # -> URL a ser pesquisada"
   ]
  },
  {
   "cell_type": "code",
   "execution_count": 3,
   "metadata": {},
   "outputs": [],
   "source": [
    "# Criar Instância do Google Chrome pelo Selenium\n",
    "driver = webdriver.Chrome()\n",
    "driver.implicitly_wait(10)\n",
    "\n",
    "# Acesso ao Site através do método get\n",
    "driver.get(URL_IMOVEIS)"
   ]
  },
  {
   "cell_type": "markdown",
   "metadata": {},
   "source": [
    "#### 3 -  Acesso as classes HTML com os Dados"
   ]
  },
  {
   "cell_type": "code",
   "execution_count": 4,
   "metadata": {
    "scrolled": false
   },
   "outputs": [
    {
     "name": "stderr",
     "output_type": "stream",
     "text": [
      "<ipython-input-4-18d15999fbf3>:2: DeprecationWarning: find_elements_by_class_name is deprecated. Please use find_elements(by=By.CLASS_NAME, value=name) instead\n",
      "  resultados_imoveis = driver.find_elements_by_class_name('property-card__content')\n"
     ]
    }
   ],
   "source": [
    "# Pegar Lista de Resultados dos Imoveis\n",
    "resultados_imoveis = driver.find_elements_by_class_name('property-card__content')"
   ]
  },
  {
   "cell_type": "code",
   "execution_count": 5,
   "metadata": {},
   "outputs": [
    {
     "data": {
      "text/plain": [
       "36"
      ]
     },
     "execution_count": 5,
     "metadata": {},
     "output_type": "execute_result"
    }
   ],
   "source": [
    "len(resultados_imoveis)"
   ]
  },
  {
   "cell_type": "markdown",
   "metadata": {},
   "source": [
    "#### Preparando para Acessar as Janelas"
   ]
  },
  {
   "cell_type": "code",
   "execution_count": 6,
   "metadata": {},
   "outputs": [],
   "source": [
    "# Setup wait for later\n",
    "wait = WebDriverWait(driver, 10)\n",
    "\n",
    "# Store the ID of the original window\n",
    "original_window = driver.current_window_handle"
   ]
  },
  {
   "cell_type": "markdown",
   "metadata": {},
   "source": [
    "#### 4 -  Loop para Acesso dos Sites (Cliques em Cada Link da Primeira Página)"
   ]
  },
  {
   "cell_type": "code",
   "execution_count": 7,
   "metadata": {},
   "outputs": [],
   "source": [
    "metros_quadrados = []\n",
    "quartos = []\n",
    "banheiros = []\n",
    "vagas = []"
   ]
  },
  {
   "cell_type": "code",
   "execution_count": 8,
   "metadata": {},
   "outputs": [
    {
     "name": "stderr",
     "output_type": "stream",
     "text": [
      "<ipython-input-8-1ff00c0db9fd>:26: DeprecationWarning: find_element_by_class_name is deprecated. Please use find_element(by=By.CLASS_NAME, value=name) instead\n",
      "  metros_v = driver.find_element_by_class_name('features__item--area')\n",
      "<ipython-input-8-1ff00c0db9fd>:27: DeprecationWarning: find_element_by_class_name is deprecated. Please use find_element(by=By.CLASS_NAME, value=name) instead\n",
      "  quartos_v = driver.find_element_by_class_name('features__item--bedroom')\n",
      "<ipython-input-8-1ff00c0db9fd>:28: DeprecationWarning: find_element_by_class_name is deprecated. Please use find_element(by=By.CLASS_NAME, value=name) instead\n",
      "  banheiros_v = driver.find_element_by_class_name('features__item--bathroom')\n",
      "<ipython-input-8-1ff00c0db9fd>:29: DeprecationWarning: find_element_by_class_name is deprecated. Please use find_element(by=By.CLASS_NAME, value=name) instead\n",
      "  vagas_v = driver.find_element_by_class_name('features__item--parking')\n"
     ]
    }
   ],
   "source": [
    "while True:\n",
    "    # For para coleta de descrições\n",
    "    for res in resultados_imoveis:\n",
    "        \n",
    "        assert len(driver.window_handles) == 1\n",
    "        \n",
    "        try:\n",
    "        \n",
    "            res.click() # Clicar na Descrição\n",
    "\n",
    "            sleep(3)\n",
    "            \n",
    "            wait.until(EC.number_of_windows_to_be(2))\n",
    "            \n",
    "        except:\n",
    "            \n",
    "            pass\n",
    "        \n",
    "        for window_handle in driver.window_handles:\n",
    "            \n",
    "            if window_handle != original_window:\n",
    "                driver.switch_to.window(window_handle)\n",
    "                \n",
    "                # Obtendo as variáveis selecionadas no site de acordo com a classe\n",
    "            \n",
    "                metros_v = driver.find_element_by_class_name('features__item--area')\n",
    "                quartos_v = driver.find_element_by_class_name('features__item--bedroom')\n",
    "                banheiros_v = driver.find_element_by_class_name('features__item--bathroom')\n",
    "                vagas_v = driver.find_element_by_class_name('features__item--parking')\n",
    "                \n",
    "                # Quardando as info nas Listas\n",
    "                \n",
    "                metros_quadrados.append(metros_v.text)\n",
    "                quartos.append(quartos_v.text)\n",
    "                banheiros.append(banheiros_v.text)\n",
    "                vagas.append(vagas_v.text)\n",
    "                \n",
    "                driver.close()\n",
    "                \n",
    "                driver.switch_to.window(original_window)\n",
    "                \n",
    "                break\n",
    "                \n",
    "    break         "
   ]
  },
  {
   "cell_type": "markdown",
   "metadata": {},
   "source": [
    "#### 5 - Tratando os Dados e Colocando em Um Data Frame"
   ]
  },
  {
   "cell_type": "code",
   "execution_count": 16,
   "metadata": {},
   "outputs": [
    {
     "data": {
      "text/plain": [
       "35"
      ]
     },
     "execution_count": 16,
     "metadata": {},
     "output_type": "execute_result"
    }
   ],
   "source": [
    "#len(metros_quadrados)\n",
    "#len(quartos)\n",
    "#len(banheiros) \n",
    "len(vagas) # Todas as listas possuem 35 itens coletados "
   ]
  },
  {
   "cell_type": "code",
   "execution_count": 17,
   "metadata": {},
   "outputs": [],
   "source": [
    "# Inserindo os dados em um dicionário\n",
    "dados = {'Metragem': metros_quadrados , 'Quartos': quartos, 'Banheiros': banheiros, 'Vagas': vagas}"
   ]
  },
  {
   "cell_type": "code",
   "execution_count": 18,
   "metadata": {},
   "outputs": [],
   "source": [
    "# Tranformando em Data Frame Pandas\n",
    "dados_imoveis = pd.DataFrame(dados)"
   ]
  },
  {
   "cell_type": "code",
   "execution_count": 20,
   "metadata": {
    "scrolled": true
   },
   "outputs": [
    {
     "data": {
      "text/html": [
       "<div>\n",
       "<style scoped>\n",
       "    .dataframe tbody tr th:only-of-type {\n",
       "        vertical-align: middle;\n",
       "    }\n",
       "\n",
       "    .dataframe tbody tr th {\n",
       "        vertical-align: top;\n",
       "    }\n",
       "\n",
       "    .dataframe thead th {\n",
       "        text-align: right;\n",
       "    }\n",
       "</style>\n",
       "<table border=\"1\" class=\"dataframe\">\n",
       "  <thead>\n",
       "    <tr style=\"text-align: right;\">\n",
       "      <th></th>\n",
       "      <th>Metragem</th>\n",
       "      <th>Quartos</th>\n",
       "      <th>Banheiros</th>\n",
       "      <th>Vagas</th>\n",
       "    </tr>\n",
       "  </thead>\n",
       "  <tbody>\n",
       "    <tr>\n",
       "      <th>0</th>\n",
       "      <td>64m²</td>\n",
       "      <td>2 quartos</td>\n",
       "      <td>2 banheiros\\n1 suíte</td>\n",
       "      <td>1 vaga</td>\n",
       "    </tr>\n",
       "    <tr>\n",
       "      <th>1</th>\n",
       "      <td>66m²</td>\n",
       "      <td>2 quartos</td>\n",
       "      <td>1 banheiro</td>\n",
       "      <td>Não informado SOLICITAR</td>\n",
       "    </tr>\n",
       "    <tr>\n",
       "      <th>2</th>\n",
       "      <td>71m²</td>\n",
       "      <td>2 quartos</td>\n",
       "      <td>1 banheiro</td>\n",
       "      <td>1 vaga</td>\n",
       "    </tr>\n",
       "    <tr>\n",
       "      <th>3</th>\n",
       "      <td>180m²</td>\n",
       "      <td>3 quartos</td>\n",
       "      <td>3 banheiros\\n1 suíte</td>\n",
       "      <td>2 vagas</td>\n",
       "    </tr>\n",
       "    <tr>\n",
       "      <th>4</th>\n",
       "      <td>58m²</td>\n",
       "      <td>2 quartos</td>\n",
       "      <td>2 banheiros\\n1 suíte</td>\n",
       "      <td>1 vaga</td>\n",
       "    </tr>\n",
       "    <tr>\n",
       "      <th>5</th>\n",
       "      <td>90m²</td>\n",
       "      <td>2 quartos</td>\n",
       "      <td>3 banheiros\\n2 suítes</td>\n",
       "      <td>1 vaga</td>\n",
       "    </tr>\n",
       "    <tr>\n",
       "      <th>6</th>\n",
       "      <td>66m²</td>\n",
       "      <td>2 quartos</td>\n",
       "      <td>1 banheiro</td>\n",
       "      <td>2 vagas</td>\n",
       "    </tr>\n",
       "    <tr>\n",
       "      <th>7</th>\n",
       "      <td>63m²</td>\n",
       "      <td>2 quartos</td>\n",
       "      <td>2 banheiros\\n1 suíte</td>\n",
       "      <td>1 vaga</td>\n",
       "    </tr>\n",
       "    <tr>\n",
       "      <th>8</th>\n",
       "      <td>220m²</td>\n",
       "      <td>4 quartos</td>\n",
       "      <td>2 banheiros\\n2 suítes</td>\n",
       "      <td>4 vagas</td>\n",
       "    </tr>\n",
       "    <tr>\n",
       "      <th>9</th>\n",
       "      <td>90m²</td>\n",
       "      <td>2 quartos</td>\n",
       "      <td>2 banheiros\\n1 suíte</td>\n",
       "      <td>2 vagas</td>\n",
       "    </tr>\n",
       "    <tr>\n",
       "      <th>10</th>\n",
       "      <td>300m²</td>\n",
       "      <td>3 quartos</td>\n",
       "      <td>2 banheiros</td>\n",
       "      <td>2 vagas</td>\n",
       "    </tr>\n",
       "    <tr>\n",
       "      <th>11</th>\n",
       "      <td>608m²</td>\n",
       "      <td>Não informado SOLICITAR</td>\n",
       "      <td>Não informado SOLICITAR</td>\n",
       "      <td>Não informado SOLICITAR</td>\n",
       "    </tr>\n",
       "    <tr>\n",
       "      <th>12</th>\n",
       "      <td>88m²</td>\n",
       "      <td>2 quartos</td>\n",
       "      <td>3 banheiros\\n2 suítes</td>\n",
       "      <td>2 vagas</td>\n",
       "    </tr>\n",
       "    <tr>\n",
       "      <th>13</th>\n",
       "      <td>102m²</td>\n",
       "      <td>3 quartos</td>\n",
       "      <td>2 banheiros\\n1 suíte</td>\n",
       "      <td>1 vaga</td>\n",
       "    </tr>\n",
       "    <tr>\n",
       "      <th>14</th>\n",
       "      <td>119m²</td>\n",
       "      <td>4 quartos</td>\n",
       "      <td>3 banheiros\\n1 suíte</td>\n",
       "      <td>2 vagas</td>\n",
       "    </tr>\n",
       "    <tr>\n",
       "      <th>15</th>\n",
       "      <td>140m²</td>\n",
       "      <td>3 quartos</td>\n",
       "      <td>3 banheiros</td>\n",
       "      <td>4 vagas</td>\n",
       "    </tr>\n",
       "    <tr>\n",
       "      <th>16</th>\n",
       "      <td>550m²</td>\n",
       "      <td>4 quartos</td>\n",
       "      <td>6 banheiros\\n4 suítes</td>\n",
       "      <td>5 vagas</td>\n",
       "    </tr>\n",
       "    <tr>\n",
       "      <th>17</th>\n",
       "      <td>120m²</td>\n",
       "      <td>3 quartos</td>\n",
       "      <td>3 banheiros\\n2 suítes</td>\n",
       "      <td>3 vagas</td>\n",
       "    </tr>\n",
       "    <tr>\n",
       "      <th>18</th>\n",
       "      <td>210m²</td>\n",
       "      <td>4 quartos</td>\n",
       "      <td>5 banheiros\\n3 suítes</td>\n",
       "      <td>3 vagas</td>\n",
       "    </tr>\n",
       "    <tr>\n",
       "      <th>19</th>\n",
       "      <td>97m²</td>\n",
       "      <td>3 quartos</td>\n",
       "      <td>2 banheiros\\n1 suíte</td>\n",
       "      <td>2 vagas</td>\n",
       "    </tr>\n",
       "    <tr>\n",
       "      <th>20</th>\n",
       "      <td>160m²</td>\n",
       "      <td>3 quartos</td>\n",
       "      <td>3 banheiros\\n2 suítes</td>\n",
       "      <td>3 vagas</td>\n",
       "    </tr>\n",
       "    <tr>\n",
       "      <th>21</th>\n",
       "      <td>300m²</td>\n",
       "      <td>4 quartos</td>\n",
       "      <td>4 banheiros\\n1 suíte</td>\n",
       "      <td>2 vagas</td>\n",
       "    </tr>\n",
       "    <tr>\n",
       "      <th>22</th>\n",
       "      <td>550m²</td>\n",
       "      <td>3 quartos</td>\n",
       "      <td>5 banheiros\\n3 suítes</td>\n",
       "      <td>4 vagas</td>\n",
       "    </tr>\n",
       "    <tr>\n",
       "      <th>23</th>\n",
       "      <td>360m²</td>\n",
       "      <td>4 quartos</td>\n",
       "      <td>3 banheiros</td>\n",
       "      <td>Não informado SOLICITAR</td>\n",
       "    </tr>\n",
       "    <tr>\n",
       "      <th>24</th>\n",
       "      <td>222m²</td>\n",
       "      <td>3 quartos</td>\n",
       "      <td>3 banheiros\\n2 suítes</td>\n",
       "      <td>5 vagas</td>\n",
       "    </tr>\n",
       "    <tr>\n",
       "      <th>25</th>\n",
       "      <td>517m²</td>\n",
       "      <td>Não informado SOLICITAR</td>\n",
       "      <td>Não informado SOLICITAR</td>\n",
       "      <td>Não informado SOLICITAR</td>\n",
       "    </tr>\n",
       "    <tr>\n",
       "      <th>26</th>\n",
       "      <td>78m²</td>\n",
       "      <td>2 quartos</td>\n",
       "      <td>1 banheiro\\n2 suítes</td>\n",
       "      <td>2 vagas</td>\n",
       "    </tr>\n",
       "    <tr>\n",
       "      <th>27</th>\n",
       "      <td>114m²</td>\n",
       "      <td>3 quartos</td>\n",
       "      <td>3 banheiros\\n2 suítes</td>\n",
       "      <td>2 vagas</td>\n",
       "    </tr>\n",
       "    <tr>\n",
       "      <th>28</th>\n",
       "      <td>330m²</td>\n",
       "      <td>4 quartos</td>\n",
       "      <td>5 banheiros\\n4 suítes</td>\n",
       "      <td>4 vagas</td>\n",
       "    </tr>\n",
       "    <tr>\n",
       "      <th>29</th>\n",
       "      <td>544m²</td>\n",
       "      <td>3 quartos</td>\n",
       "      <td>4 banheiros\\n2 suítes</td>\n",
       "      <td>2 vagas</td>\n",
       "    </tr>\n",
       "    <tr>\n",
       "      <th>30</th>\n",
       "      <td>225m²</td>\n",
       "      <td>4 quartos</td>\n",
       "      <td>4 banheiros\\n2 suítes</td>\n",
       "      <td>2 vagas</td>\n",
       "    </tr>\n",
       "    <tr>\n",
       "      <th>31</th>\n",
       "      <td>110m²</td>\n",
       "      <td>2 quartos</td>\n",
       "      <td>4 banheiros\\n2 suítes</td>\n",
       "      <td>2 vagas</td>\n",
       "    </tr>\n",
       "    <tr>\n",
       "      <th>32</th>\n",
       "      <td>1260m²</td>\n",
       "      <td>Não informado SOLICITAR</td>\n",
       "      <td>Não informado SOLICITAR</td>\n",
       "      <td>Não informado SOLICITAR</td>\n",
       "    </tr>\n",
       "    <tr>\n",
       "      <th>33</th>\n",
       "      <td>107m²</td>\n",
       "      <td>3 quartos</td>\n",
       "      <td>2 banheiros\\n1 suíte</td>\n",
       "      <td>2 vagas</td>\n",
       "    </tr>\n",
       "    <tr>\n",
       "      <th>34</th>\n",
       "      <td>182m²</td>\n",
       "      <td>5 quartos</td>\n",
       "      <td>3 banheiros\\n1 suíte</td>\n",
       "      <td>5 vagas</td>\n",
       "    </tr>\n",
       "  </tbody>\n",
       "</table>\n",
       "</div>"
      ],
      "text/plain": [
       "   Metragem                  Quartos                Banheiros  \\\n",
       "0      64m²                2 quartos     2 banheiros\\n1 suíte   \n",
       "1      66m²                2 quartos               1 banheiro   \n",
       "2      71m²                2 quartos               1 banheiro   \n",
       "3     180m²                3 quartos     3 banheiros\\n1 suíte   \n",
       "4      58m²                2 quartos     2 banheiros\\n1 suíte   \n",
       "5      90m²                2 quartos    3 banheiros\\n2 suítes   \n",
       "6      66m²                2 quartos               1 banheiro   \n",
       "7      63m²                2 quartos     2 banheiros\\n1 suíte   \n",
       "8     220m²                4 quartos    2 banheiros\\n2 suítes   \n",
       "9      90m²                2 quartos     2 banheiros\\n1 suíte   \n",
       "10    300m²                3 quartos              2 banheiros   \n",
       "11    608m²  Não informado SOLICITAR  Não informado SOLICITAR   \n",
       "12     88m²                2 quartos    3 banheiros\\n2 suítes   \n",
       "13    102m²                3 quartos     2 banheiros\\n1 suíte   \n",
       "14    119m²                4 quartos     3 banheiros\\n1 suíte   \n",
       "15    140m²                3 quartos              3 banheiros   \n",
       "16    550m²                4 quartos    6 banheiros\\n4 suítes   \n",
       "17    120m²                3 quartos    3 banheiros\\n2 suítes   \n",
       "18    210m²                4 quartos    5 banheiros\\n3 suítes   \n",
       "19     97m²                3 quartos     2 banheiros\\n1 suíte   \n",
       "20    160m²                3 quartos    3 banheiros\\n2 suítes   \n",
       "21    300m²                4 quartos     4 banheiros\\n1 suíte   \n",
       "22    550m²                3 quartos    5 banheiros\\n3 suítes   \n",
       "23    360m²                4 quartos              3 banheiros   \n",
       "24    222m²                3 quartos    3 banheiros\\n2 suítes   \n",
       "25    517m²  Não informado SOLICITAR  Não informado SOLICITAR   \n",
       "26     78m²                2 quartos     1 banheiro\\n2 suítes   \n",
       "27    114m²                3 quartos    3 banheiros\\n2 suítes   \n",
       "28    330m²                4 quartos    5 banheiros\\n4 suítes   \n",
       "29    544m²                3 quartos    4 banheiros\\n2 suítes   \n",
       "30    225m²                4 quartos    4 banheiros\\n2 suítes   \n",
       "31    110m²                2 quartos    4 banheiros\\n2 suítes   \n",
       "32   1260m²  Não informado SOLICITAR  Não informado SOLICITAR   \n",
       "33    107m²                3 quartos     2 banheiros\\n1 suíte   \n",
       "34    182m²                5 quartos     3 banheiros\\n1 suíte   \n",
       "\n",
       "                      Vagas  \n",
       "0                    1 vaga  \n",
       "1   Não informado SOLICITAR  \n",
       "2                    1 vaga  \n",
       "3                   2 vagas  \n",
       "4                    1 vaga  \n",
       "5                    1 vaga  \n",
       "6                   2 vagas  \n",
       "7                    1 vaga  \n",
       "8                   4 vagas  \n",
       "9                   2 vagas  \n",
       "10                  2 vagas  \n",
       "11  Não informado SOLICITAR  \n",
       "12                  2 vagas  \n",
       "13                   1 vaga  \n",
       "14                  2 vagas  \n",
       "15                  4 vagas  \n",
       "16                  5 vagas  \n",
       "17                  3 vagas  \n",
       "18                  3 vagas  \n",
       "19                  2 vagas  \n",
       "20                  3 vagas  \n",
       "21                  2 vagas  \n",
       "22                  4 vagas  \n",
       "23  Não informado SOLICITAR  \n",
       "24                  5 vagas  \n",
       "25  Não informado SOLICITAR  \n",
       "26                  2 vagas  \n",
       "27                  2 vagas  \n",
       "28                  4 vagas  \n",
       "29                  2 vagas  \n",
       "30                  2 vagas  \n",
       "31                  2 vagas  \n",
       "32  Não informado SOLICITAR  \n",
       "33                  2 vagas  \n",
       "34                  5 vagas  "
      ]
     },
     "execution_count": 20,
     "metadata": {},
     "output_type": "execute_result"
    }
   ],
   "source": [
    "# Visualizando dados dos imoveis\n",
    "dados_imoveis"
   ]
  },
  {
   "cell_type": "code",
   "execution_count": 21,
   "metadata": {},
   "outputs": [],
   "source": [
    "# Salvando Arquivo em CSV\n",
    "dados_imoveis.to_csv('Dados_Imoveis_Rio_das_Ostras.csv')"
   ]
  },
  {
   "cell_type": "markdown",
   "metadata": {},
   "source": [
    "#### FIM"
   ]
  }
 ],
 "metadata": {
  "kernelspec": {
   "display_name": "Python 3",
   "language": "python",
   "name": "python3"
  },
  "language_info": {
   "codemirror_mode": {
    "name": "ipython",
    "version": 3
   },
   "file_extension": ".py",
   "mimetype": "text/x-python",
   "name": "python",
   "nbconvert_exporter": "python",
   "pygments_lexer": "ipython3",
   "version": "3.8.5"
  }
 },
 "nbformat": 4,
 "nbformat_minor": 4
}
